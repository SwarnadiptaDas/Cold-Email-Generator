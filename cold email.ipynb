{
 "cells": [
  {
   "cell_type": "code",
   "execution_count": 32,
   "id": "71d7975c-643e-478b-9f71-e219d77b71b2",
   "metadata": {},
   "outputs": [
    {
     "name": "stdout",
     "output_type": "stream",
     "text": [
      "The first person to walk on the moon was Neil Armstrong. He stepped out of the lunar module Eagle and onto the moon's surface on July 20, 1969, during the Apollo 11 mission. Armstrong famously declared, \"That's one small step for man, one giant leap for mankind,\" as he became the first human to set foot on the moon.\n",
      "\n",
      "However, it's worth noting that Armstrong was not alone on the mission. He was accompanied by fellow astronauts Edwin \"Buzz\" Aldrin and Michael Collins. While Armstrong was the first to walk on the moon, Aldrin joined him on the surface shortly afterwards. Collins remained in orbit around the moon in the command module Columbia.\n",
      "\n",
      "Neil Armstrong's historic moonwalk marked a major milestone in space exploration and paved the way for future human spaceflight missions.\n"
     ]
    }
   ],
   "source": [
    "from langchain_groq import ChatGroq\n",
    " \n",
    "\n",
    "llm = ChatGroq(\n",
    "    temperature=0,\n",
    "    groq_api_key='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',\n",
    "    model_name=\"llama-3.1-70b-versatile\"\n",
    ")\n",
    "response = llm.invoke(\"Who was the first person to go to the moon?\")\n",
    "print(response.content)\n",
    "\n"
   ]
  },
  {
   "cell_type": "code",
   "execution_count": 9,
   "id": "b5d84778-213e-4f9d-8f82-000a66db3d29",
   "metadata": {},
   "outputs": [
    {
     "name": "stderr",
     "output_type": "stream",
     "text": [
      "USER_AGENT environment variable not set, consider setting it to identify your requests.\n"
     ]
    },
    {
     "name": "stdout",
     "output_type": "stream",
     "text": [
      "Software Engineer III, Infrastructure, Core — Google CareersCareersSkip navigation linksTeamsLocationsBenefitsJobsStudentsYour careerarrow_drop_downYour career menu ApplicationsProfileSaved jobsJob alertsSign inCareersApplicationsProfileSearch jobsSaved jobsJob alertsTeamsLocationsBenefitsJobsStudentsHelpSend Feedbackjob detailsarrow_backBack to jobs searchJobs search results1,994  jobs matchedAccount Executive, Mid-Market Sales, Google Customer SolutionsMumbai, Maharashtra, India; Gurgaon, Haryana, India; +2 more; +1 moreSoftware Engineer III, Infrastructure, CoreBengaluru, Karnataka, IndiaSenior Software Engineer, AI/ML GenAI, Google Cloud AISunnyvale, CA, USA; Kirkland, WA, USASoftware Engineer, Silicon Engineering ProductivityBengaluru, Karnataka, IndiaSenior Software Engineer, Search UI and AI InfrastructureSão Paulo, State of São Paulo, BrazilCloud Technical Solutions Engineer, Google Workspace (English, Japanese)Tokyo, JapanTechnical Program Manager II, Infrastructure Resource Management, YouTubeMountain View, CA, USA; San Bruno, CA, USAIndustry Manager, Retail, Large Customer Sales (Fixed-Term Contract) (English, Italian)Milan, Metropolitan City of Milan, ItalyKey Account Executive, Digital Natives Enterprise, Google CloudSydney NSW, AustraliaData Center Mechanical Engineer, Thermal CoolingNew York, NY, USA; Austin, TX, USA; +3 more; +2 moreTechnical Program Manager, Cloud ComputeWarsaw, PolandStrategy and Operations Manager III, Google CloudWarsaw, Poland; Kraków, PolandSystem Level Test Engineer, Custom SiliconNew Taipei, Banqiao District, New Taipei City, TaiwanTechnical Writer, Business Application Platform, Information ExperienceBengaluru, Karnataka, IndiaBusiness Program Management, Go-To-Market, Google CloudBengaluru, Karnataka, India; Hyderabad, Telangana, India; +2 more; +1 moreDigital Sales Representative, Public SectorReston, VA, USASoftware Engineer III, Compute EngProdWarsaw, PolandSoftware Engineering Manager, ML InfraSunnyvale, CA, USA; Mountain View, CA, USASenior Software Engineer, Engineering Productivity, SiliconBengaluru, Karnataka, IndiaHardware Design Engineer, Board and Systems, Google CloudSunnyvale, CA, USA1‑20 of 1994navigate_nextFollow Life at Google on More about usAbout usopen_in_newContact usopen_in_newPressopen_in_newRelated InformationInvestor relationsopen_in_newBlogopen_in_newEqual OpportunityGoogle is proud to be an equal opportunity and affirmative action employer. We are committed to building a workforce that is representative of the users we serve, creating a culture of belonging, and providing an equal employment opportunity regardless of race, creed, color, religion, gender, sexual orientation, gender identity/expression, national origin, disability, age, genetic information, veteran status, marital status, pregnancy or related condition (including breastfeeding), expecting or parents-to-be, criminal histories consistent with legal requirements, or any other basis protected by law. See also  Google's EEO Policy, Know your rights: workplace discrimination is illegal, Belonging at Google, and How we hire.More about usexpand_moreRelated informationexpand_moreEqual opportunityexpand_morePrivacyopen_in_newApplicant & Candidate Privacyopen_in_newTermsopen_in_newhelpHelpopen_in_newarrow_backBack to jobs searchSoftware Engineer III, Infrastructure, Coreshare linkCopy linkemailEmail a friendcorporate_fareGoogleplaceBengaluru, Karnataka, Indiabar_chartMidMidExperience driving progress, solving problems, and mentoring more junior team members; deeper expertise and applied knowledge within relevant area.Applyshare linkCopy linkemailEmail a friendMinimum qualifications:\n",
      "Bachelor’s degree or equivalent practical experience.\n",
      "2 years of experience with software development in one or more programming languages, or 1 year of experience with an advanced degree.\n",
      "\n",
      "2 years of experience with data structures or algorithms in either an academic or industry setting.\n",
      "Preferred qualifications:\n",
      "Master's degree or PhD in Computer Science or related technical fields.\n",
      "2 years of experience building and developing infrastructure, distributed systems or networks, or experience with compute technologies, storage, or hardware architecture. \n",
      "Experience developing accessible technologies.\n",
      "About the jobGoogle's software engineers develop the next-generation technologies that change how billions of users connect, explore, and interact with information and one another. Our products need to handle information at massive scale, and extend well beyond web search. We're looking for engineers who bring fresh ideas from all areas, including information retrieval, distributed computing, large-scale system design, networking and data storage, security, artificial intelligence, natural language processing, UI design and mobile; the list goes on and is growing every day. As a software engineer, you will work on a specific project critical to Google’s needs with opportunities to switch teams and projects as you and our fast-paced business grow and evolve. We need our engineers to be versatile, display leadership qualities and be enthusiastic to take on new problems across the full-stack as we continue to push technology forward.\n",
      "With your technical expertise you will manage project priorities, deadlines, and deliverables. You will design, develop, test, deploy, maintain, and enhance software solutions.\n",
      "The Core team builds the technical foundation behind Google’s flagship products. We are owners and advocates for the underlying design elements, developer platforms, product components, and infrastructure at Google. These are the essential building blocks for excellent, safe, and coherent experiences for our users and drive the pace of innovation for every developer. We look across Google’s products to build central solutions, break down technical barriers and strengthen existing systems. As the Core team, we have a mandate and a unique opportunity to impact important technical decisions across the company.Responsibilities\n",
      "Write product or system development code.\n",
      "Participate in, or lead design reviews with peers and stakeholders to decide amongst available technologies.\n",
      "Review code developed by other developers and provide feedback to ensure best practices (e.g., style guidelines, checking code in, accuracy, testability, and efficiency).\n",
      "Contribute to existing documentation or educational content and adapt content based on product/program updates and user feedback.\n",
      "Triage product or system issues and debug/track/resolve by analyzing the sources of issues and the impact on hardware, network, or service operations and quality.\n",
      "Information collected and processed as part of your Google Careers profile, and any job applications you choose to submit is subject to Google's Applicant and Candidate Privacy Policy.Google is proud to be an equal opportunity and affirmative action employer. We are committed to building a workforce that is representative of the users we serve, creating a culture of belonging, and providing an equal employment opportunity regardless of race, creed, color, religion, gender, sexual orientation, gender identity/expression, national origin, disability, age, genetic information, veteran status, marital status, pregnancy or related condition (including breastfeeding), expecting or parents-to-be, criminal histories consistent with legal requirements, or any other basis protected by law. See also  Google's EEO Policy, Know your rights: workplace discrimination is illegal, Belonging at Google, and How we hire.If you have a need that requires accommodation, please let us know by completing our Accommodations for Applicants form.Google is a global company and, in order to facilitate efficient collaboration and communication globally, English proficiency is a requirement for all roles unless stated otherwise in the job posting.To all recruitment agencies: Google does not accept agency resumes. Please do not forward resumes to our jobs alias, Google employees, or any other organization location. Google is not responsible for any fees related to unsolicited resumes.Follow Life at Google on More about usAbout usopen_in_newContact usopen_in_newPressopen_in_newRelated InformationInvestor relationsopen_in_newBlogopen_in_newEqual OpportunityGoogle is proud to be an equal opportunity and affirmative action employer. We are committed to building a workforce that is representative of the users we serve, creating a culture of belonging, and providing an equal employment opportunity regardless of race, creed, color, religion, gender, sexual orientation, gender identity/expression, national origin, disability, age, genetic information, veteran status, marital status, pregnancy or related condition (including breastfeeding), expecting or parents-to-be, criminal histories consistent with legal requirements, or any other basis protected by law. See also  Google's EEO Policy, Know your rights: workplace discrimination is illegal, Belonging at Google, and How we hire.More about usexpand_moreRelated informationexpand_moreEqual opportunityexpand_morePrivacyopen_in_newApplicant & Candidate Privacyopen_in_newTermsopen_in_newhelpHelpopen_in_newFollow Life at Google on More about usAbout usopen_in_newContact usopen_in_newPressopen_in_newRelated InformationInvestor relationsopen_in_newBlogopen_in_newEqual OpportunityGoogle is proud to be an equal opportunity and affirmative action employer. We are committed to building a workforce that is representative of the users we serve, creating a culture of belonging, and providing an equal employment opportunity regardless of race, creed, color, religion, gender, sexual orientation, gender identity/expression, national origin, disability, age, genetic information, veteran status, marital status, pregnancy or related condition (including breastfeeding), expecting or parents-to-be, criminal histories consistent with legal requirements, or any other basis protected by law. See also  Google's EEO Policy, Know your rights: workplace discrimination is illegal, Belonging at Google, and How we hire.More about usexpand_moreRelated informationexpand_moreEqual opportunityexpand_morePrivacyopen_in_newApplicant & Candidate Privacyopen_in_newTermsopen_in_newhelpHelpopen_in_newGoogle appsMain menu\n"
     ]
    }
   ],
   "source": [
    "from langchain_community.document_loaders import WebBaseLoader\n",
    "loader = WebBaseLoader(\"https://www.google.com/about/careers/applications/jobs/results/110690555461018310\")\n",
    "page_data = loader.load().pop().page_content\n",
    "print(page_data)"
   ]
  },
  {
   "cell_type": "code",
   "execution_count": 27,
   "id": "5d5f0650-a220-459d-a237-f792ca77478f",
   "metadata": {},
   "outputs": [
    {
     "data": {
      "text/plain": [
       "str"
      ]
     },
     "execution_count": 27,
     "metadata": {},
     "output_type": "execute_result"
    }
   ],
   "source": [
    "from langchain_core.prompts import PromptTemplate\n",
    "prompt_extract = PromptTemplate.from_template(\n",
    "    \"\"\"\n",
    "    ### SCRAPED TEXT FROM WEBSITE:\n",
    "    {page_data}\n",
    "    ### INSTRUCTION:\n",
    "    the scraped text is from career's page of a website.\n",
    "    your job is to extract the job postings and return them in JSON format containing the following keys:\n",
    "    'skills', 'roles','experience' and 'description'.\n",
    "    \"\"\"\n",
    ")\n",
    "chain_extract = prompt_extract | llm\n",
    "res = chain_extract.invoke(input={'page_data': page_data})\n",
    "type(res.content)\n",
    "\n"
   ]
  },
  {
   "cell_type": "code",
   "execution_count": 30,
   "id": "44b72321-180b-47b9-8504-509ce8b041a2",
   "metadata": {},
   "outputs": [
    {
     "data": {
      "text/plain": [
       "[{'skills': ['Software development',\n",
       "   'Data structures',\n",
       "   'Algorithms',\n",
       "   'Distributed systems',\n",
       "   'Networking',\n",
       "   'Data storage',\n",
       "   'Security',\n",
       "   'Artificial intelligence',\n",
       "   'Natural language processing',\n",
       "   'UI design',\n",
       "   'Mobile'],\n",
       "  'roles': 'Software Engineer III, Infrastructure, Core',\n",
       "  'experience': '2 years of experience with software development in one or more programming languages, or 1 year of experience with an advanced degree. 2 years of experience with data structures or algorithms in either an academic or industry setting.',\n",
       "  'description': \"Google's software engineers develop the next-generation technologies that change how billions of users connect, explore, and interact with information and one another. Our products need to handle information at massive scale, and extend well beyond web search.\"},\n",
       " {'skills': ['Sales', 'Customer solutions', 'Mid-market sales'],\n",
       "  'roles': 'Account Executive, Mid-Market Sales, Google Customer Solutions',\n",
       "  'experience': 'Not specified',\n",
       "  'description': 'Not specified'},\n",
       " {'skills': ['AI/ML', 'GenAI', 'Google Cloud AI'],\n",
       "  'roles': 'Senior Software Engineer, AI/ML GenAI, Google Cloud AI',\n",
       "  'experience': 'Not specified',\n",
       "  'description': 'Not specified'},\n",
       " {'skills': ['Silicon engineering', 'Productivity'],\n",
       "  'roles': 'Software Engineer, Silicon Engineering Productivity',\n",
       "  'experience': 'Not specified',\n",
       "  'description': 'Not specified'},\n",
       " {'skills': ['Search UI', 'AI infrastructure'],\n",
       "  'roles': 'Senior Software Engineer, Search UI and AI Infrastructure',\n",
       "  'experience': 'Not specified',\n",
       "  'description': 'Not specified'},\n",
       " {'skills': ['Cloud technical solutions', 'Google Workspace'],\n",
       "  'roles': 'Cloud Technical Solutions Engineer, Google Workspace (English, Japanese)',\n",
       "  'experience': 'Not specified',\n",
       "  'description': 'Not specified'},\n",
       " {'skills': ['Technical program management',\n",
       "   'Infrastructure resource management',\n",
       "   'YouTube'],\n",
       "  'roles': 'Technical Program Manager II, Infrastructure Resource Management, YouTube',\n",
       "  'experience': 'Not specified',\n",
       "  'description': 'Not specified'},\n",
       " {'skills': ['Retail', 'Large customer sales'],\n",
       "  'roles': 'Industry Manager, Retail, Large Customer Sales (Fixed-Term Contract) (English, Italian)',\n",
       "  'experience': 'Not specified',\n",
       "  'description': 'Not specified'},\n",
       " {'skills': ['Digital sales', 'Public sector'],\n",
       "  'roles': 'Digital Sales Representative, Public Sector',\n",
       "  'experience': 'Not specified',\n",
       "  'description': 'Not specified'},\n",
       " {'skills': ['Data center mechanical engineering', 'Thermal cooling'],\n",
       "  'roles': 'Data Center Mechanical Engineer, Thermal Cooling',\n",
       "  'experience': 'Not specified',\n",
       "  'description': 'Not specified'},\n",
       " {'skills': ['Cloud compute'],\n",
       "  'roles': 'Technical Program Manager, Cloud Compute',\n",
       "  'experience': 'Not specified',\n",
       "  'description': 'Not specified'},\n",
       " {'skills': ['Strategy and operations management', 'Google Cloud'],\n",
       "  'roles': 'Strategy and Operations Manager III, Google Cloud',\n",
       "  'experience': 'Not specified',\n",
       "  'description': 'Not specified'},\n",
       " {'skills': ['System level testing', 'Custom silicon'],\n",
       "  'roles': 'System Level Test Engineer, Custom Silicon',\n",
       "  'experience': 'Not specified',\n",
       "  'description': 'Not specified'},\n",
       " {'skills': ['Technical writing', 'Business application platform'],\n",
       "  'roles': 'Technical Writer, Business Application Platform, Information Experience',\n",
       "  'experience': 'Not specified',\n",
       "  'description': 'Not specified'},\n",
       " {'skills': ['Business program management', 'Go-to-market', 'Google Cloud'],\n",
       "  'roles': 'Business Program Management, Go-To-Market, Google Cloud',\n",
       "  'experience': 'Not specified',\n",
       "  'description': 'Not specified'},\n",
       " {'skills': ['Software engineering', 'Compute engineering'],\n",
       "  'roles': 'Software Engineer III, Compute Eng',\n",
       "  'experience': 'Not specified',\n",
       "  'description': 'Not specified'},\n",
       " {'skills': ['Software engineering management', 'ML infrastructure'],\n",
       "  'roles': 'Software Engineering Manager, ML Infra',\n",
       "  'experience': 'Not specified',\n",
       "  'description': 'Not specified'},\n",
       " {'skills': ['Hardware design engineering',\n",
       "   'Board and systems',\n",
       "   'Google Cloud'],\n",
       "  'roles': 'Hardware Design Engineer, Board and Systems, Google Cloud',\n",
       "  'experience': 'Not specified',\n",
       "  'description': 'Not specified'}]"
      ]
     },
     "execution_count": 30,
     "metadata": {},
     "output_type": "execute_result"
    }
   ],
   "source": [
    "from langchain_core.output_parsers import JsonOutputParser\n",
    "\n",
    "json_parser = JsonOutputParser()\n",
    "json_res = json_parser.parse(res.content)\n",
    "json_res"
   ]
  },
  {
   "cell_type": "code",
   "execution_count": 33,
   "id": "b1c60cd3-3931-4b3d-95bb-a6d7063fbf76",
   "metadata": {},
   "outputs": [
    {
     "data": {
      "text/plain": [
       "list"
      ]
     },
     "execution_count": 33,
     "metadata": {},
     "output_type": "execute_result"
    }
   ],
   "source": [
    "type(json_res)"
   ]
  },
  {
   "cell_type": "code",
   "execution_count": 34,
   "id": "07711cd1-49e2-4009-83c5-fd18bf3776a3",
   "metadata": {},
   "outputs": [
    {
     "data": {
      "text/html": [
       "<div>\n",
       "<style scoped>\n",
       "    .dataframe tbody tr th:only-of-type {\n",
       "        vertical-align: middle;\n",
       "    }\n",
       "\n",
       "    .dataframe tbody tr th {\n",
       "        vertical-align: top;\n",
       "    }\n",
       "\n",
       "    .dataframe thead th {\n",
       "        text-align: right;\n",
       "    }\n",
       "</style>\n",
       "<table border=\"1\" class=\"dataframe\">\n",
       "  <thead>\n",
       "    <tr style=\"text-align: right;\">\n",
       "      <th></th>\n",
       "      <th>Techstack</th>\n",
       "      <th>Links</th>\n",
       "    </tr>\n",
       "  </thead>\n",
       "  <tbody>\n",
       "    <tr>\n",
       "      <th>0</th>\n",
       "      <td>React, Node.js, MongoDB</td>\n",
       "      <td>https://example.com/react-portfolio</td>\n",
       "    </tr>\n",
       "    <tr>\n",
       "      <th>1</th>\n",
       "      <td>Angular,.NET, SQL Server</td>\n",
       "      <td>https://example.com/angular-portfolio</td>\n",
       "    </tr>\n",
       "    <tr>\n",
       "      <th>2</th>\n",
       "      <td>Vue.js, Ruby on Rails, PostgreSQL</td>\n",
       "      <td>https://example.com/vue-portfolio</td>\n",
       "    </tr>\n",
       "    <tr>\n",
       "      <th>3</th>\n",
       "      <td>Python, Django, MySQL</td>\n",
       "      <td>https://example.com/python-portfolio</td>\n",
       "    </tr>\n",
       "    <tr>\n",
       "      <th>4</th>\n",
       "      <td>Java, Spring Boot, Oracle</td>\n",
       "      <td>https://example.com/java-portfolio</td>\n",
       "    </tr>\n",
       "    <tr>\n",
       "      <th>5</th>\n",
       "      <td>Flutter, Firebase, GraphQL</td>\n",
       "      <td>https://example.com/flutter-portfolio</td>\n",
       "    </tr>\n",
       "    <tr>\n",
       "      <th>6</th>\n",
       "      <td>WordPress, PHP, MySQL</td>\n",
       "      <td>https://example.com/wordpress-portfolio</td>\n",
       "    </tr>\n",
       "    <tr>\n",
       "      <th>7</th>\n",
       "      <td>Magento, PHP, MySQL</td>\n",
       "      <td>https://example.com/magento-portfolio</td>\n",
       "    </tr>\n",
       "    <tr>\n",
       "      <th>8</th>\n",
       "      <td>React Native, Node.js, MongoDB</td>\n",
       "      <td>https://example.com/react-native-portfolio</td>\n",
       "    </tr>\n",
       "    <tr>\n",
       "      <th>9</th>\n",
       "      <td>iOS, Swift, Core Data</td>\n",
       "      <td>https://example.com/ios-portfolio</td>\n",
       "    </tr>\n",
       "    <tr>\n",
       "      <th>10</th>\n",
       "      <td>Android, Java, Room Persistence</td>\n",
       "      <td>https://example.com/android-portfolio</td>\n",
       "    </tr>\n",
       "    <tr>\n",
       "      <th>11</th>\n",
       "      <td>Kotlin, Android, Firebase</td>\n",
       "      <td>https://example.com/kotlin-android-portfolio</td>\n",
       "    </tr>\n",
       "    <tr>\n",
       "      <th>12</th>\n",
       "      <td>Android TV, Kotlin, Android NDK</td>\n",
       "      <td>https://example.com/android-tv-portfolio</td>\n",
       "    </tr>\n",
       "    <tr>\n",
       "      <th>13</th>\n",
       "      <td>iOS, Swift, ARKit</td>\n",
       "      <td>https://example.com/ios-ar-portfolio</td>\n",
       "    </tr>\n",
       "    <tr>\n",
       "      <th>14</th>\n",
       "      <td>Cross-platform, Xamarin, Azure</td>\n",
       "      <td>https://example.com/xamarin-portfolio</td>\n",
       "    </tr>\n",
       "    <tr>\n",
       "      <th>15</th>\n",
       "      <td>Backend, Kotlin, Spring Boot</td>\n",
       "      <td>https://example.com/kotlin-backend-portfolio</td>\n",
       "    </tr>\n",
       "    <tr>\n",
       "      <th>16</th>\n",
       "      <td>Frontend, TypeScript, Angular</td>\n",
       "      <td>https://example.com/typescript-frontend-portfolio</td>\n",
       "    </tr>\n",
       "    <tr>\n",
       "      <th>17</th>\n",
       "      <td>Full-stack, JavaScript, Express.js</td>\n",
       "      <td>https://example.com/full-stack-js-portfolio</td>\n",
       "    </tr>\n",
       "    <tr>\n",
       "      <th>18</th>\n",
       "      <td>Machine Learning, Python, TensorFlow</td>\n",
       "      <td>https://example.com/ml-python-portfolio</td>\n",
       "    </tr>\n",
       "    <tr>\n",
       "      <th>19</th>\n",
       "      <td>DevOps, Jenkins, Docker</td>\n",
       "      <td>https://example.com/devops-portfolio</td>\n",
       "    </tr>\n",
       "  </tbody>\n",
       "</table>\n",
       "</div>"
      ],
      "text/plain": [
       "                               Techstack  \\\n",
       "0                React, Node.js, MongoDB   \n",
       "1               Angular,.NET, SQL Server   \n",
       "2      Vue.js, Ruby on Rails, PostgreSQL   \n",
       "3                  Python, Django, MySQL   \n",
       "4              Java, Spring Boot, Oracle   \n",
       "5             Flutter, Firebase, GraphQL   \n",
       "6                  WordPress, PHP, MySQL   \n",
       "7                    Magento, PHP, MySQL   \n",
       "8         React Native, Node.js, MongoDB   \n",
       "9                  iOS, Swift, Core Data   \n",
       "10       Android, Java, Room Persistence   \n",
       "11             Kotlin, Android, Firebase   \n",
       "12       Android TV, Kotlin, Android NDK   \n",
       "13                     iOS, Swift, ARKit   \n",
       "14        Cross-platform, Xamarin, Azure   \n",
       "15          Backend, Kotlin, Spring Boot   \n",
       "16         Frontend, TypeScript, Angular   \n",
       "17    Full-stack, JavaScript, Express.js   \n",
       "18  Machine Learning, Python, TensorFlow   \n",
       "19               DevOps, Jenkins, Docker   \n",
       "\n",
       "                                                Links  \n",
       "0                 https://example.com/react-portfolio  \n",
       "1               https://example.com/angular-portfolio  \n",
       "2                   https://example.com/vue-portfolio  \n",
       "3                https://example.com/python-portfolio  \n",
       "4                  https://example.com/java-portfolio  \n",
       "5               https://example.com/flutter-portfolio  \n",
       "6             https://example.com/wordpress-portfolio  \n",
       "7               https://example.com/magento-portfolio  \n",
       "8          https://example.com/react-native-portfolio  \n",
       "9                   https://example.com/ios-portfolio  \n",
       "10              https://example.com/android-portfolio  \n",
       "11       https://example.com/kotlin-android-portfolio  \n",
       "12           https://example.com/android-tv-portfolio  \n",
       "13               https://example.com/ios-ar-portfolio  \n",
       "14              https://example.com/xamarin-portfolio  \n",
       "15       https://example.com/kotlin-backend-portfolio  \n",
       "16  https://example.com/typescript-frontend-portfolio  \n",
       "17        https://example.com/full-stack-js-portfolio  \n",
       "18            https://example.com/ml-python-portfolio  \n",
       "19               https://example.com/devops-portfolio  "
      ]
     },
     "execution_count": 34,
     "metadata": {},
     "output_type": "execute_result"
    }
   ],
   "source": [
    "import pandas as pd\n",
    "\n",
    "df = pd.read_csv(\"my_portfolio.csv\")\n",
    "df"
   ]
  },
  {
   "cell_type": "code",
   "execution_count": 35,
   "id": "9afa1296-137d-4648-98ae-ad5a2201e434",
   "metadata": {},
   "outputs": [],
   "source": [
    "import uuid\n",
    "import chromadb\n",
    "\n",
    "client = chromadb.PersistentClient('vectorstore')\n",
    "collection = client.get_or_create_collection(name=\"portfolio\")\n",
    "\n",
    "if not collection.count():\n",
    "    for _, row in df.iterrows():\n",
    "        collection.add(documents=row[\"Techstack\"],\n",
    "                       metadatas={\"links\": row[\"Links\"]},\n",
    "                       ids=[str(uuid.uuid4())])"
   ]
  },
  {
   "cell_type": "code",
   "execution_count": 37,
   "id": "15940c0d-55ba-4182-a3af-ffb9c7f61528",
   "metadata": {},
   "outputs": [
    {
     "name": "stdout",
     "output_type": "stream",
     "text": [
      "[[{'links': 'https://example.com/ml-python-portfolio'}, {'links': 'https://example.com/python-portfolio'}], [{'links': 'https://example.com/ml-python-portfolio'}, {'links': 'https://example.com/wordpress-portfolio'}], [{'links': 'https://example.com/ml-python-portfolio'}, {'links': 'https://example.com/ios-portfolio'}]]\n"
     ]
    }
   ],
   "source": [
    "\n",
    "job = {\n",
    "    \"skills\": [\"Python\", \"Machine Learning\", \"Data Analysis\"]\n",
    "}\n",
    "\n",
    "\n",
    "links = collection.query(query_texts=job['skills'], n_results=2).get('metadatas', [])\n",
    "print(links)\n"
   ]
  },
  {
   "cell_type": "code",
   "execution_count": 38,
   "id": "2b63cad5-38ef-496c-9080-ade80f896a0b",
   "metadata": {},
   "outputs": [
    {
     "data": {
      "text/plain": [
       "{'skills': ['Python', 'Machine Learning', 'Data Analysis']}"
      ]
     },
     "execution_count": 38,
     "metadata": {},
     "output_type": "execute_result"
    }
   ],
   "source": [
    "job"
   ]
  },
  {
   "cell_type": "code",
   "execution_count": 40,
   "id": "dcc8cc22-854e-4bd9-868b-62db3ec969b6",
   "metadata": {},
   "outputs": [
    {
     "name": "stdout",
     "output_type": "stream",
     "text": [
      "['Software development', 'Data structures', 'Algorithms', 'Distributed systems', 'Networking', 'Data storage', 'Security', 'Artificial intelligence', 'Natural language processing', 'UI design', 'Mobile']\n"
     ]
    }
   ],
   "source": [
    "job = json_res[0]  \n",
    "print(job['skills'])  \n"
   ]
  },
  {
   "cell_type": "code",
   "execution_count": 42,
   "id": "599acb53-2398-492e-a21c-bdd4b36e12f7",
   "metadata": {},
   "outputs": [
    {
     "name": "stdout",
     "output_type": "stream",
     "text": [
      "Subject: Empowering Google's Next-Generation Technologies with Accenture's Expertise\n",
      "\n",
      "Dear Hiring Manager,\n",
      "\n",
      "I came across the job description for a Software Engineer III, Infrastructure, Core at Google, and I am excited to introduce Accenture's capabilities in fulfilling your needs. With our extensive experience in software development, data structures, algorithms, and distributed systems, I believe we can make a significant impact in supporting Google's mission to develop next-generation technologies.\n",
      "\n",
      "At Accenture, we have a proven track record of empowering numerous enterprises with tailored solutions, fostering scalability, process optimization, cost reduction, and heightened overall efficiency. Our team of experts has hands-on experience in developing innovative solutions using various programming languages, data storage, security, artificial intelligence, and natural language processing.\n",
      "\n",
      "I would like to highlight some of our relevant portfolio pieces that demonstrate our capabilities in software development and AI:\n",
      "\n",
      "* https://example.com/ml-python-portfolio: This portfolio showcases our expertise in machine learning and Python development, which can be applied to Google's AI and NLP initiatives.\n",
      "* https://example.com/python-portfolio: This portfolio demonstrates our proficiency in Python development, which is a crucial skill for Google's software engineering teams.\n",
      "* https://example.com/ios-portfolio: This portfolio highlights our experience in mobile development, which can be leveraged to support Google's mobile initiatives.\n",
      "\n",
      "Our team is well-equipped to handle large-scale projects, and we have a strong understanding of the importance of security, UI design, and user experience. We are confident that our expertise can support Google's efforts to develop innovative technologies that change how billions of users connect, explore, and interact with information and one another.\n",
      "\n",
      "I would be delighted to schedule a call to discuss how Accenture can support Google's software engineering needs. Please let me know if you are available for a call this week or next.\n",
      "\n",
      "Best regards,\n",
      "\n",
      "Swarnadipta\n",
      "Business Development Executive\n",
      "Accenture\n"
     ]
    }
   ],
   "source": [
    "prompt_email = PromptTemplate.from_template(\n",
    "        \"\"\"\n",
    "        ### JOB DESCRIPTION:\n",
    "        {job_description}\n",
    "        \n",
    "        ### INSTRUCTION:\n",
    "        You are Swarnadipta, a business development executive at Accenture. Accenture is an AI & Software Consulting company dedicated to facilitating\n",
    "        the seamless integration of business processes through automated tools. \n",
    "        Over our experience, we have empowered numerous enterprises with tailored solutions, fostering scalability, \n",
    "        process optimization, cost reduction, and heightened overall efficiency. \n",
    "        Your job is to write a cold email to the client regarding the job mentioned above describing the capability of Accenture \n",
    "        in fulfilling their needs.\n",
    "        Also add the most relevant ones from the following links to showcase Accenture's portfolio: {link_list}\n",
    "        Remember you are Swarnadipta, BDE at Accenture. \n",
    "        Do not provide a preamble.\n",
    "        ### EMAIL (NO PREAMBLE):\n",
    "        \n",
    "        \"\"\"\n",
    "        )\n",
    "\n",
    "chain_email = prompt_email | llm\n",
    "res = chain_email.invoke({\"job_description\": str(job), \"link_list\": links})\n",
    "print(res.content)"
   ]
  },
  {
   "cell_type": "code",
   "execution_count": null,
   "id": "e457bcd6-5f85-412f-866c-87b7f8120258",
   "metadata": {},
   "outputs": [],
   "source": []
  }
 ],
 "metadata": {
  "kernelspec": {
   "display_name": "Python 3 (ipykernel)",
   "language": "python",
   "name": "python3"
  },
  "language_info": {
   "codemirror_mode": {
    "name": "ipython",
    "version": 3
   },
   "file_extension": ".py",
   "mimetype": "text/x-python",
   "name": "python",
   "nbconvert_exporter": "python",
   "pygments_lexer": "ipython3",
   "version": "3.12.5"
  }
 },
 "nbformat": 4,
 "nbformat_minor": 5
}
